{
  "cells": [
    {
      "cell_type": "markdown",
      "metadata": {
        "id": "view-in-github",
        "colab_type": "text"
      },
      "source": [
        "<a href=\"https://colab.research.google.com/github/Mikalaj-Plck/Transfer_Learning/blob/main/GB_TransferLerning_S3.ipynb\" target=\"_parent\"><img src=\"https://colab.research.google.com/assets/colab-badge.svg\" alt=\"Open In Colab\"/></a>"
      ]
    },
    {
      "cell_type": "markdown",
      "id": "ec77f4f5",
      "metadata": {
        "id": "ec77f4f5"
      },
      "source": [
        "# Упрощаем использование TL. Фреймворк Huggingface"
      ]
    },
    {
      "cell_type": "markdown",
      "id": "3dd42298",
      "metadata": {
        "id": "3dd42298"
      },
      "source": [
        "## Первый семинар\n",
        "\n",
        "![image.png](attachment:image.png)"
      ]
    },
    {
      "cell_type": "markdown",
      "id": "6028e90f",
      "metadata": {
        "id": "6028e90f"
      },
      "source": [
        "## Второй семинар\n",
        "\n",
        "![fdbd6488-6edc-4a18-8070-7f587f38bc92.jfif](attachment:fdbd6488-6edc-4a18-8070-7f587f38bc92.jfif)"
      ]
    },
    {
      "cell_type": "markdown",
      "id": "fef51fa5",
      "metadata": {
        "id": "fef51fa5"
      },
      "source": [
        "Вы уже получили представление, с чего начинается проект с нейросетями или откуда брать эмбеддинги.\n",
        "\n",
        "- Например, вы можете взять Colab и создать поисковик по изображениям: https://blog.roboflow.com/clip-image-search-faiss/.\n",
        "- Или можете создать рекомендательныю систему по текстовым описаниям товаров: https://www.kaggle.com/code/andrzejpackard/bert-and-faiss-for-recomendation-engine"
      ]
    },
    {
      "cell_type": "markdown",
      "id": "312fe8e1",
      "metadata": {
        "id": "312fe8e1"
      },
      "source": [
        "Следующий шаг – упростить себе работу с широчайшим перечнем предобученных моделей.\n",
        "\n",
        "Нам понадобится библиотека transformers."
      ]
    },
    {
      "cell_type": "code",
      "execution_count": null,
      "id": "41cc7bca",
      "metadata": {
        "id": "41cc7bca",
        "outputId": "eb97446f-dcd2-4958-c12b-6367144aaf75"
      },
      "outputs": [
        {
          "name": "stdout",
          "output_type": "stream",
          "text": [
            "Collecting transformers\n",
            "  Downloading transformers-4.48.1-py3-none-any.whl.metadata (44 kB)\n",
            "Requirement already satisfied: filelock in /Users/yezutmichael/anaconda3/lib/python3.12/site-packages (from transformers) (3.13.1)\n",
            "Collecting huggingface-hub<1.0,>=0.24.0 (from transformers)\n",
            "  Downloading huggingface_hub-0.27.1-py3-none-any.whl.metadata (13 kB)\n",
            "Requirement already satisfied: numpy>=1.17 in /Users/yezutmichael/anaconda3/lib/python3.12/site-packages (from transformers) (1.26.4)\n",
            "Requirement already satisfied: packaging>=20.0 in /Users/yezutmichael/anaconda3/lib/python3.12/site-packages (from transformers) (24.1)\n",
            "Requirement already satisfied: pyyaml>=5.1 in /Users/yezutmichael/anaconda3/lib/python3.12/site-packages (from transformers) (6.0.1)\n",
            "Requirement already satisfied: regex!=2019.12.17 in /Users/yezutmichael/anaconda3/lib/python3.12/site-packages (from transformers) (2024.9.11)\n",
            "Requirement already satisfied: requests in /Users/yezutmichael/anaconda3/lib/python3.12/site-packages (from transformers) (2.32.3)\n",
            "Collecting tokenizers<0.22,>=0.21 (from transformers)\n",
            "  Downloading tokenizers-0.21.0-cp39-abi3-macosx_11_0_arm64.whl.metadata (6.7 kB)\n",
            "Collecting safetensors>=0.4.1 (from transformers)\n",
            "  Downloading safetensors-0.5.2-cp38-abi3-macosx_11_0_arm64.whl.metadata (3.8 kB)\n",
            "Requirement already satisfied: tqdm>=4.27 in /Users/yezutmichael/anaconda3/lib/python3.12/site-packages (from transformers) (4.66.5)\n",
            "Requirement already satisfied: fsspec>=2023.5.0 in /Users/yezutmichael/anaconda3/lib/python3.12/site-packages (from huggingface-hub<1.0,>=0.24.0->transformers) (2024.6.1)\n",
            "Requirement already satisfied: typing-extensions>=3.7.4.3 in /Users/yezutmichael/anaconda3/lib/python3.12/site-packages (from huggingface-hub<1.0,>=0.24.0->transformers) (4.12.2)\n",
            "Requirement already satisfied: charset-normalizer<4,>=2 in /Users/yezutmichael/anaconda3/lib/python3.12/site-packages (from requests->transformers) (3.3.2)\n",
            "Requirement already satisfied: idna<4,>=2.5 in /Users/yezutmichael/anaconda3/lib/python3.12/site-packages (from requests->transformers) (3.7)\n",
            "Requirement already satisfied: urllib3<3,>=1.21.1 in /Users/yezutmichael/anaconda3/lib/python3.12/site-packages (from requests->transformers) (1.26.20)\n",
            "Requirement already satisfied: certifi>=2017.4.17 in /Users/yezutmichael/anaconda3/lib/python3.12/site-packages (from requests->transformers) (2024.8.30)\n",
            "Downloading transformers-4.48.1-py3-none-any.whl (9.7 MB)\n",
            "\u001b[2K   \u001b[90m━━━━━━━━━━━━━━━━━━━━━━━━━━━━━━━━━━━━━━━━\u001b[0m \u001b[32m9.7/9.7 MB\u001b[0m \u001b[31m9.7 MB/s\u001b[0m eta \u001b[36m0:00:00\u001b[0m00:01\u001b[0m00:01\u001b[0mm\n",
            "\u001b[?25hDownloading huggingface_hub-0.27.1-py3-none-any.whl (450 kB)\n",
            "Downloading safetensors-0.5.2-cp38-abi3-macosx_11_0_arm64.whl (408 kB)\n",
            "Downloading tokenizers-0.21.0-cp39-abi3-macosx_11_0_arm64.whl (2.6 MB)\n",
            "\u001b[2K   \u001b[90m━━━━━━━━━━━━━━━━━━━━━━━━━━━━━━━━━━━━━━━━\u001b[0m \u001b[32m2.6/2.6 MB\u001b[0m \u001b[31m10.0 MB/s\u001b[0m eta \u001b[36m0:00:00\u001b[0ma \u001b[36m0:00:01\u001b[0m\n",
            "\u001b[?25hInstalling collected packages: safetensors, huggingface-hub, tokenizers, transformers\n",
            "Successfully installed huggingface-hub-0.27.1 safetensors-0.5.2 tokenizers-0.21.0 transformers-4.48.1\n"
          ]
        }
      ],
      "source": [
        "!pip install transformers"
      ]
    },
    {
      "cell_type": "markdown",
      "id": "fda6bacf",
      "metadata": {
        "id": "fda6bacf"
      },
      "source": [
        "## Почему трансформеры?\n",
        "\n",
        "- Не простые эмбеддинги, а позиционные (часть слова + положение в последовательности)\n",
        "- 10-20 одинаковых модулей, которые постоянно рассылают друг другу \"запросы\"\n",
        "- Каждый модуль практически равен строчке кода в программе (хотя может делать гораздо более сложные вещи)\n",
        "- Очень эффективно вычисляется и распараллеливается\n",
        "\n",
        "В предшествующих (реккурентных) сетях обучение и вычисление велось по цепочке. Тут все параллельно.\n",
        "\n",
        "* GPT3 учитывал 8000.\n",
        "* GPT4 учитывает 32000 токенов в качестве контекста (объем маленькой книги).\n",
        "* Flash attention – 64000 (среднего размера книга)"
      ]
    },
    {
      "cell_type": "markdown",
      "id": "c48af151",
      "metadata": {
        "id": "c48af151"
      },
      "source": [
        "![image.png](attachment:image.png)"
      ]
    },
    {
      "cell_type": "markdown",
      "id": "eb387fff",
      "metadata": {
        "id": "eb387fff"
      },
      "source": [
        "https://www.youtube.com/watch?v=NzLwHcqE6Jw"
      ]
    },
    {
      "cell_type": "markdown",
      "id": "0a0602ed",
      "metadata": {
        "id": "0a0602ed"
      },
      "source": [
        "Зато... трансформеры требуют огромного количества памяти.\n",
        "\n",
        "* _Stable Diffusion_ – модели от 10 Гб и больше\n",
        "* _GPT_... давайте посмотрим на сайте"
      ]
    },
    {
      "cell_type": "markdown",
      "id": "5352d128",
      "metadata": {
        "id": "5352d128"
      },
      "source": [
        "# Что такое Huggingface\n",
        "\n",
        "* Сотни тысяч предобученных моделей\n",
        "* Очень много датасетов (как и в kaggle, и в Google Dataset Search)\n",
        "* HF Spaces\n",
        "\n",
        "Пройдемся по https://huggingface.co/\n",
        "\n",
        "Когда нужно хранить модель локально, а когда лучше пользоваться API?"
      ]
    },
    {
      "cell_type": "markdown",
      "id": "099de35a",
      "metadata": {
        "id": "099de35a"
      },
      "source": [
        "## Примеры кода (pipeline)\n",
        "\n",
        "Объекты Pipeline: https://huggingface.co/docs/transformers/v4.35.2/en/main_classes/pipelines"
      ]
    },
    {
      "cell_type": "markdown",
      "id": "ae300927",
      "metadata": {
        "id": "ae300927"
      },
      "source": [
        "Демо чат-бота:\n",
        "\n",
        "- https://huggingface.co/tasks/conversational\n",
        "- https://huggingface.co/docs/transformers/v4.35.2/en/main_classes/pipelines#transformers.ConversationalPipeline\n",
        "\n",
        "```python\n",
        "from transformers import pipeline, Conversation\n",
        "\n",
        "chatbot = pipeline(model=\"microsoft/DialoGPT-medium\")\n",
        "conversation = Conversation(\"Going to the movies tonight - any suggestions?\")\n",
        "conversation = chatbot(conversation)\n",
        "conversation.generated_responses[-1]\n",
        ">>> 'The Big Lebowski'\n",
        "\n",
        "conversation.add_user_input(\"Is it an action movie?\")\n",
        "conversation = chatbot(conversation)\n",
        "conversation.generated_responses[-1]\n",
        ">>> \"It's a comedy.\"\n",
        "```\n",
        "\n",
        "Онлайн-демо: https://huggingface.co/spaces/shawhin/vanilla-chatbot"
      ]
    },
    {
      "cell_type": "markdown",
      "id": "33e4b853",
      "metadata": {
        "id": "33e4b853"
      },
      "source": [
        "# Задачи компьютерного зрения\n",
        "\n",
        "* Оценка карты глубины по фотографии: https://huggingface.co/blog/cv_state#support-for-pipelines\n",
        "* Классификация изображений\n",
        "* Сегментация изображений\n",
        "* Перевод изображения в изображение\n",
        "* Детекция объектов\n",
        "* Классификация видео\n",
        "* Классификация без заранее определенных меток (ZeroShot Classification)\n",
        "\n",
        "Перечень задач: https://huggingface.co/docs/transformers/main/en/main_classes/pipelines#computer-vision"
      ]
    },
    {
      "cell_type": "code",
      "execution_count": null,
      "id": "e740d903",
      "metadata": {
        "id": "e740d903",
        "outputId": "00fea84a-0f26-4c0c-b345-2589cecbdd26"
      },
      "outputs": [
        {
          "name": "stderr",
          "output_type": "stream",
          "text": [
            "No model was supplied, defaulted to Intel/dpt-large and revision bc15f29 (https://huggingface.co/Intel/dpt-large).\n",
            "Using a pipeline without specifying a model name and revision in production is not recommended.\n",
            "Some weights of DPTForDepthEstimation were not initialized from the model checkpoint at Intel/dpt-large and are newly initialized: ['neck.fusion_stage.layers.0.residual_layer1.convolution1.bias', 'neck.fusion_stage.layers.0.residual_layer1.convolution1.weight', 'neck.fusion_stage.layers.0.residual_layer1.convolution2.bias', 'neck.fusion_stage.layers.0.residual_layer1.convolution2.weight']\n",
            "You should probably TRAIN this model on a down-stream task to be able to use it for predictions and inference.\n",
            "Device set to use mps:0\n"
          ]
        },
        {
          "data": {
            "image/jpeg": "[encoded data removed]",
            "image/png": "[encoded data removed]",
            "text/plain": [
              "<PIL.Image.Image image mode=L size=895x597>"
            ]
          },
          "execution_count": 3,
          "metadata": {},
          "output_type": "execute_result"
        }
      ],
      "source": [
        "from transformers import pipeline\n",
        "\n",
        "depth_estimator = pipeline(task=\"depth-estimation\") # model=\"Intel/dpt-large\"\n",
        "output = depth_estimator(\"/Users/yezutmichael/Programming/GB_Transfer_Learning/view.jpg\")\n",
        "\n",
        "# Вызов этой команды возвращает нам тензор, в котором дана оценочная информация\n",
        "# об удаленности каждого объекта от зрителя (в метрах)\n",
        "output[\"depth\"]"
      ]
    },
    {
      "cell_type": "markdown",
      "id": "e76c28a5",
      "metadata": {
        "id": "e76c28a5"
      },
      "source": [
        "Генерация изображений там тоже есть, но, как было сказано, диффузионные модели занимают огромное пространство в памяти."
      ]
    },
    {
      "cell_type": "code",
      "execution_count": null,
      "id": "2d36b89f",
      "metadata": {
        "id": "2d36b89f"
      },
      "outputs": [],
      "source": [
        "#!pip install diffusers\n",
        "\n",
        "#from diffusers import DiffusionPipeline\n",
        "#generator = DiffusionPipeline.from_pretrained(\"CompVis/stable-diffusion-v1-4\")\n",
        "#generator.to(\"cuda\")\n",
        "#image = generator(\"An image of a squirrel in Picasso style\").images[0]"
      ]
    },
    {
      "cell_type": "markdown",
      "id": "51471259",
      "metadata": {
        "id": "51471259"
      },
      "source": [
        "# Поработаем с текстом"
      ]
    },
    {
      "cell_type": "markdown",
      "id": "77ed82e4",
      "metadata": {
        "id": "77ed82e4"
      },
      "source": [
        "Модели, понимающий русский язык: https://huggingface.co/models?language=ru\n",
        "\n",
        "Например, поищем русские модели для перевода текста в речь: https://huggingface.co/docs/transformers/tasks/text-to-speech"
      ]
    },
    {
      "cell_type": "code",
      "execution_count": null,
      "id": "13bdec9f",
      "metadata": {
        "colab": {
          "referenced_widgets": [
            "8ea7311450d944e084ded4b82fa5cf61",
            "789796ad10504c8fa3cc754efa49db8f",
            "5cde4d5ea82c4e96b7eec239e8df6007",
            "cc643d01d1fc4a298f70009786b51989",
            "4476b4a581a14db5acd51974a67f5f7e",
            "efebbac8dfcf43bdb78724aea7beb6eb",
            "8308b9841bab4a3b9a5daef407b3c3b2"
          ]
        },
        "id": "13bdec9f",
        "outputId": "52dec43b-f342-4238-e531-97b0733a356c"
      },
      "outputs": [
        {
          "data": {
            "application/vnd.jupyter.widget-view+json": {
              "model_id": "8ea7311450d944e084ded4b82fa5cf61",
              "version_major": 2,
              "version_minor": 0
            },
            "text/plain": [
              "config.json:   0%|          | 0.00/712 [00:00<?, ?B/s]"
            ]
          },
          "metadata": {},
          "output_type": "display_data"
        },
        {
          "data": {
            "application/vnd.jupyter.widget-view+json": {
              "model_id": "789796ad10504c8fa3cc754efa49db8f",
              "version_major": 2,
              "version_minor": 0
            },
            "text/plain": [
              "pytorch_model.bin:   0%|          | 0.00/713M [00:00<?, ?B/s]"
            ]
          },
          "metadata": {},
          "output_type": "display_data"
        },
        {
          "data": {
            "application/vnd.jupyter.widget-view+json": {
              "model_id": "5cde4d5ea82c4e96b7eec239e8df6007",
              "version_major": 2,
              "version_minor": 0
            },
            "text/plain": [
              "tokenizer_config.json:   0%|          | 0.00/43.0 [00:00<?, ?B/s]"
            ]
          },
          "metadata": {},
          "output_type": "display_data"
        },
        {
          "data": {
            "application/vnd.jupyter.widget-view+json": {
              "model_id": "cc643d01d1fc4a298f70009786b51989",
              "version_major": 2,
              "version_minor": 0
            },
            "text/plain": [
              "vocab.txt:   0%|          | 0.00/1.78M [00:00<?, ?B/s]"
            ]
          },
          "metadata": {},
          "output_type": "display_data"
        },
        {
          "data": {
            "application/vnd.jupyter.widget-view+json": {
              "model_id": "4476b4a581a14db5acd51974a67f5f7e",
              "version_major": 2,
              "version_minor": 0
            },
            "text/plain": [
              "added_tokens.json:   0%|          | 0.00/2.00 [00:00<?, ?B/s]"
            ]
          },
          "metadata": {},
          "output_type": "display_data"
        },
        {
          "data": {
            "application/vnd.jupyter.widget-view+json": {
              "model_id": "efebbac8dfcf43bdb78724aea7beb6eb",
              "version_major": 2,
              "version_minor": 0
            },
            "text/plain": [
              "special_tokens_map.json:   0%|          | 0.00/112 [00:00<?, ?B/s]"
            ]
          },
          "metadata": {},
          "output_type": "display_data"
        },
        {
          "data": {
            "application/vnd.jupyter.widget-view+json": {
              "model_id": "8308b9841bab4a3b9a5daef407b3c3b2",
              "version_major": 2,
              "version_minor": 0
            },
            "text/plain": [
              "model.safetensors:   0%|          | 0.00/713M [00:00<?, ?B/s]"
            ]
          },
          "metadata": {},
          "output_type": "display_data"
        },
        {
          "name": "stderr",
          "output_type": "stream",
          "text": [
            "Device set to use mps:0\n"
          ]
        }
      ],
      "source": [
        "from transformers import pipeline\n",
        "\n",
        "question_answerer = pipeline(\n",
        "    \"question-answering\",\n",
        "    model=\"Den4ikAI/rubert-large-squad\",\n",
        "    tokenizer=\"Den4ikAI/rubert-large-squad\"\n",
        ")"
      ]
    },
    {
      "cell_type": "code",
      "execution_count": null,
      "id": "71dfeb8e",
      "metadata": {
        "id": "71dfeb8e"
      },
      "outputs": [],
      "source": [
        "context = \"\"\"Бенджамин Франклин родился 17 января 1706 года в Бостоне, штат Массачусетс, и был пятнадцатым ребенком в семье ремесленника Джосайи Франклина [1, 3]. Он был американским политическим деятелем, дипломатом, изобретателем, ученым, философом, писателем, журналистом, издателем и масоном [2, 4, 5, 6].\n",
        "Франклин был одним из отцов-основателей США и единственным, кто подписал все три важнейших исторических документа, лежащих в основе образования Соединенных Штатов Америки как независимого государства: Декларацию независимости, Конституцию США и Версальский мирный договор 1783 года [3, 4].\n",
        "Франклин был разносторонне развитым человеком. Он был не только политиком, но и изобретателем, ученым, журналистом и писателем [5, 6, 7]. В 1728 году он основал Филадельфийский дискуссионный кружок, который позже стал Американским философским обществом [1, 2]. В 1731 году он основал первую в США публичную библиотеку [1, 2]. Также, Франклин был одним из основателей Филадельфийской академии, которая позже стала Пенсильванским университетом [1, 6].\n",
        "Бенджамин Франклин был также известен своими изобретениями, такими как бифокальные очки, кресло-качалка и громоотвод [1, 6]. Он также изучал природу молнии и занимался физикой, в основном электростатикой, электричеством и магнетизмом [6].\n",
        "Франклин представлял интересы четырех американских штатов в Великобритании в течение 13 лет, начиная с 1757 года [5]. Он был делегатом Второго континентального конгресса в 1775 году, участвовал в разработке Декларации независимости и был назначен первым генеральным почтмейстером США в 1776 году [4, 5].\n",
        "Франклин был отправлен во Францию в 1776 году в качестве посла для заключения союза против Великобритании. Благодаря его усилиям, Франция признала независимость Америки в 1778 году [4, 5]. Он также участвовал в переговорах с Великобританией, которые привели к подписанию Версальского договора в 1783 году [5].\n",
        "В основе политических воззрений Франклина лежала концепция естественных и неотъемлемых прав человека, таких как жизнь, свобода и собственность [2, 4]. Сначала он рассматривал колонии как часть Британской империи, затем пришел к идее федерального устройства, а затем стал сторонником полного отделения от метрополии и провозглашения независимости [2, 4]. Он также выступал против усиления исполнительной власти, за всеобщее избирательное право и был противником рабства [4].\n",
        "Бенджамин Франклин умер 17 апреля 1790 года [1, 4].\n",
        "\"\"\""
      ]
    },
    {
      "cell_type": "code",
      "execution_count": null,
      "id": "62730083",
      "metadata": {
        "id": "62730083",
        "outputId": "29f0131e-fccd-4ca1-c260-c5ce29cefb70"
      },
      "outputs": [
        {
          "name": "stdout",
          "output_type": "stream",
          "text": [
            "ученым, философом, писателем, журналистом, издателем и масоном\n"
          ]
        }
      ],
      "source": [
        "result = question_answerer(question=\"Кто такой Бенжамин Франклин?\", context=context)\n",
        "print( result['answer'] )"
      ]
    },
    {
      "cell_type": "code",
      "execution_count": null,
      "id": "ce4db100",
      "metadata": {
        "id": "ce4db100",
        "outputId": "7dc14fb2-b3da-4d80-a8e5-a423ec465e35"
      },
      "outputs": [
        {
          "data": {
            "text/plain": [
              "{'score': 0.03368566930294037,\n",
              " 'start': 220,\n",
              " 'end': 282,\n",
              " 'answer': 'ученым, философом, писателем, журналистом, издателем и масоном'}"
            ]
          },
          "execution_count": 11,
          "metadata": {},
          "output_type": "execute_result"
        }
      ],
      "source": [
        "result"
      ]
    },
    {
      "cell_type": "code",
      "execution_count": null,
      "id": "bfd1cfeb",
      "metadata": {
        "id": "bfd1cfeb",
        "outputId": "395f0324-4db4-4901-974e-165c63eb1460"
      },
      "outputs": [
        {
          "name": "stdout",
          "output_type": "stream",
          "text": [
            "пятнадцатым\n"
          ]
        }
      ],
      "source": [
        "result = question_answerer(question=\"Каким по счету ребенком был Бенжамин Франклин?\", context=context)\n",
        "print( result['answer'] )"
      ]
    },
    {
      "cell_type": "code",
      "execution_count": null,
      "id": "c7bf5303",
      "metadata": {
        "id": "c7bf5303",
        "outputId": "4ae93231-3968-4798-fbcb-c43f851af6e1"
      },
      "outputs": [
        {
          "data": {
            "text/plain": [
              "{'score': 0.9420652985572815, 'start': 82, 'end': 93, 'answer': 'пятнадцатым'}"
            ]
          },
          "execution_count": 13,
          "metadata": {},
          "output_type": "execute_result"
        }
      ],
      "source": [
        "result"
      ]
    },
    {
      "cell_type": "markdown",
      "id": "767c43a2",
      "metadata": {
        "id": "767c43a2"
      },
      "source": [
        "# Домашнее задание\n",
        "\n",
        "Реализуйте классификацию эмоциональной окрашенности текстов при помощи объекта pipeline.\n",
        "\n",
        "1. Найдите тип задач Sentiment Analysis на huggingface.co\n",
        "2. Найдите модель для русского языка (примеры: rubert-tiny2..., rubert-base...)"
      ]
    },
    {
      "cell_type": "code",
      "execution_count": null,
      "id": "c884826d",
      "metadata": {
        "colab": {
          "referenced_widgets": [
            "ebf3bbef961a4e1aa1a4e49a54b0bd22",
            "78ae730cb1aa4cb3b12e8d148b76d2e8",
            "81da3b72536e4f1a8bcfda01179882c7",
            "85d63600ca2446e1a67181e79decd670",
            "07f3692674c447029bd1521b775987bd",
            "3919f1ad47494c5c8f4c852a9d27ac27"
          ]
        },
        "id": "c884826d",
        "outputId": "a2f43139-b65b-4ce5-98cb-239acf41e0a9"
      },
      "outputs": [
        {
          "data": {
            "application/vnd.jupyter.widget-view+json": {
              "model_id": "ebf3bbef961a4e1aa1a4e49a54b0bd22",
              "version_major": 2,
              "version_minor": 0
            },
            "text/plain": [
              "config.json:   0%|          | 0.00/902 [00:00<?, ?B/s]"
            ]
          },
          "metadata": {},
          "output_type": "display_data"
        },
        {
          "data": {
            "application/vnd.jupyter.widget-view+json": {
              "model_id": "78ae730cb1aa4cb3b12e8d148b76d2e8",
              "version_major": 2,
              "version_minor": 0
            },
            "text/plain": [
              "model.safetensors:   0%|          | 0.00/541M [00:00<?, ?B/s]"
            ]
          },
          "metadata": {},
          "output_type": "display_data"
        },
        {
          "data": {
            "application/vnd.jupyter.widget-view+json": {
              "model_id": "81da3b72536e4f1a8bcfda01179882c7",
              "version_major": 2,
              "version_minor": 0
            },
            "text/plain": [
              "tokenizer_config.json:   0%|          | 0.00/1.20k [00:00<?, ?B/s]"
            ]
          },
          "metadata": {},
          "output_type": "display_data"
        },
        {
          "data": {
            "application/vnd.jupyter.widget-view+json": {
              "model_id": "85d63600ca2446e1a67181e79decd670",
              "version_major": 2,
              "version_minor": 0
            },
            "text/plain": [
              "vocab.txt:   0%|          | 0.00/996k [00:00<?, ?B/s]"
            ]
          },
          "metadata": {},
          "output_type": "display_data"
        },
        {
          "data": {
            "application/vnd.jupyter.widget-view+json": {
              "model_id": "07f3692674c447029bd1521b775987bd",
              "version_major": 2,
              "version_minor": 0
            },
            "text/plain": [
              "tokenizer.json:   0%|          | 0.00/2.92M [00:00<?, ?B/s]"
            ]
          },
          "metadata": {},
          "output_type": "display_data"
        },
        {
          "data": {
            "application/vnd.jupyter.widget-view+json": {
              "model_id": "3919f1ad47494c5c8f4c852a9d27ac27",
              "version_major": 2,
              "version_minor": 0
            },
            "text/plain": [
              "special_tokens_map.json:   0%|          | 0.00/125 [00:00<?, ?B/s]"
            ]
          },
          "metadata": {},
          "output_type": "display_data"
        },
        {
          "name": "stderr",
          "output_type": "stream",
          "text": [
            "Device set to use mps:0\n"
          ]
        }
      ],
      "source": [
        "from transformers import pipeline\n",
        "\n",
        "pipe = pipeline(\"text-classification\", model=\"tabularisai/multilingual-sentiment-analysis\")"
      ]
    },
    {
      "cell_type": "markdown",
      "id": "6b52bb00",
      "metadata": {
        "id": "6b52bb00"
      },
      "source": [
        "Выполните следующую ячейку. Если вы правильно инициализировали `pipeline`, вы получите относительно верные предсказания."
      ]
    },
    {
      "cell_type": "code",
      "execution_count": null,
      "id": "ee15c5ea",
      "metadata": {
        "id": "ee15c5ea",
        "outputId": "0510e581-1c05-495b-d002-bb05556d1bd9"
      },
      "outputs": [
        {
          "name": "stdout",
          "output_type": "stream",
          "text": [
            "[{'label': 'Very Positive', 'score': 0.7265405654907227}, {'label': 'Very Positive', 'score': 0.6019097566604614}, {'label': 'Very Positive', 'score': 0.6526122093200684}, {'label': 'Positive', 'score': 0.5366246104240417}, {'label': 'Very Positive', 'score': 0.6726282238960266}, {'label': 'Neutral', 'score': 0.4620821177959442}, {'label': 'Neutral', 'score': 0.6009088158607483}, {'label': 'Negative', 'score': 0.35141634941101074}, {'label': 'Negative', 'score': 0.4075813293457031}, {'label': 'Very Negative', 'score': 0.8360888957977295}]\n"
          ]
        }
      ],
      "source": [
        "sentence = (\n",
        "    [\n",
        "        \"Отличный товар, полностью соответствует описанию, рекомендую!\",\n",
        "        \"Очень довольна покупкой, качество на высоте, буду заказывать ещё.\",\n",
        "        \"Товар пришел быстро, хорошо упакован, всё работает отлично.\",\n",
        "        \"Не ожидал такого качества за эти деньги, приятно удивлен.\",\n",
        "        \"Всё супер, товар полностью оправдал мои ожидания, спасибо!\",\n",
        "        \"Хороший товар, но немного не соответствует моим требованиям.\",\n",
        "        \"Товар неплохой, но есть небольшие недочеты, нужно доработать.\",\n",
        "        \"Качество так себе, ожидал большего, немного разочарован.\",\n",
        "        \"Товар пришел поврежденным, нужно заменить, очень расстроена.\",\n",
        "        \"Ужасный товар, не рекомендую никому, деньги на ветер.\"\n",
        "    ]\n",
        ")\n",
        "\n",
        "result = pipe(sentence)\n",
        "print(result)"
      ]
    },
    {
      "cell_type": "markdown",
      "id": "8e7ff63d",
      "metadata": {
        "id": "8e7ff63d"
      },
      "source": [
        "# Как запустить сервис на основе модели?"
      ]
    },
    {
      "cell_type": "markdown",
      "id": "52eb3e22",
      "metadata": {
        "id": "52eb3e22"
      },
      "source": [
        "Например, в Gradio:\n",
        "\n",
        "1. https://huggingface.co/spaces/gradio/chatbot\n",
        "2. https://www.kdnuggets.com/2023/06/build-ai-chatbot-5-minutes-hugging-face-gradio.html\n",
        "\n",
        "Или в Huggingface Spaces: https://huggingface.co/spaces"
      ]
    },
    {
      "cell_type": "markdown",
      "id": "0437a4ff",
      "metadata": {
        "id": "0437a4ff"
      },
      "source": [
        "# И напоследок поработаем с кодом"
      ]
    },
    {
      "cell_type": "code",
      "execution_count": null,
      "id": "55c7d302",
      "metadata": {
        "colab": {
          "referenced_widgets": [
            "e468318434914f9d9ceffb3cc2efb3da",
            "32af4c7f39454f58b5c07ce32c561e38",
            "15949bbdbccb4334ac0b018c70c66876",
            "ee9e2cae0ff94391aa718b2c91138d72",
            "1996a3d69fc54654b72871b9884f7233",
            "2eb80e2d85e84632a937e492cd69d67f"
          ]
        },
        "id": "55c7d302",
        "outputId": "c6e6e55c-9afb-4426-d8ba-92cd455a0243"
      },
      "outputs": [
        {
          "data": {
            "application/vnd.jupyter.widget-view+json": {
              "model_id": "e468318434914f9d9ceffb3cc2efb3da",
              "version_major": 2,
              "version_minor": 0
            },
            "text/plain": [
              "config.json:   0%|          | 0.00/480 [00:00<?, ?B/s]"
            ]
          },
          "metadata": {},
          "output_type": "display_data"
        },
        {
          "data": {
            "application/vnd.jupyter.widget-view+json": {
              "model_id": "32af4c7f39454f58b5c07ce32c561e38",
              "version_major": 2,
              "version_minor": 0
            },
            "text/plain": [
              "pytorch_model.bin:   0%|          | 0.00/336M [00:00<?, ?B/s]"
            ]
          },
          "metadata": {},
          "output_type": "display_data"
        },
        {
          "name": "stderr",
          "output_type": "stream",
          "text": [
            "Some weights of the model checkpoint at huggingface/CodeBERTa-small-v1 were not used when initializing RobertaForMaskedLM: ['roberta.pooler.dense.bias', 'roberta.pooler.dense.weight']\n",
            "- This IS expected if you are initializing RobertaForMaskedLM from the checkpoint of a model trained on another task or with another architecture (e.g. initializing a BertForSequenceClassification model from a BertForPreTraining model).\n",
            "- This IS NOT expected if you are initializing RobertaForMaskedLM from the checkpoint of a model that you expect to be exactly identical (initializing a BertForSequenceClassification model from a BertForSequenceClassification model).\n"
          ]
        },
        {
          "data": {
            "application/vnd.jupyter.widget-view+json": {
              "model_id": "15949bbdbccb4334ac0b018c70c66876",
              "version_major": 2,
              "version_minor": 0
            },
            "text/plain": [
              "tokenizer_config.json:   0%|          | 0.00/19.0 [00:00<?, ?B/s]"
            ]
          },
          "metadata": {},
          "output_type": "display_data"
        },
        {
          "data": {
            "application/vnd.jupyter.widget-view+json": {
              "model_id": "ee9e2cae0ff94391aa718b2c91138d72",
              "version_major": 2,
              "version_minor": 0
            },
            "text/plain": [
              "vocab.json:   0%|          | 0.00/994k [00:00<?, ?B/s]"
            ]
          },
          "metadata": {},
          "output_type": "display_data"
        },
        {
          "data": {
            "application/vnd.jupyter.widget-view+json": {
              "model_id": "1996a3d69fc54654b72871b9884f7233",
              "version_major": 2,
              "version_minor": 0
            },
            "text/plain": [
              "merges.txt:   0%|          | 0.00/483k [00:00<?, ?B/s]"
            ]
          },
          "metadata": {},
          "output_type": "display_data"
        },
        {
          "data": {
            "application/vnd.jupyter.widget-view+json": {
              "model_id": "2eb80e2d85e84632a937e492cd69d67f",
              "version_major": 2,
              "version_minor": 0
            },
            "text/plain": [
              "model.safetensors:   0%|          | 0.00/336M [00:00<?, ?B/s]"
            ]
          },
          "metadata": {},
          "output_type": "display_data"
        },
        {
          "name": "stderr",
          "output_type": "stream",
          "text": [
            "Device set to use mps:0\n"
          ]
        }
      ],
      "source": [
        "from transformers import pipeline\n",
        "\n",
        "fill_mask = pipeline(\n",
        "    \"fill-mask\",\n",
        "    model=\"huggingface/CodeBERTa-small-v1\",\n",
        "    tokenizer=\"huggingface/CodeBERTa-small-v1\"\n",
        ")"
      ]
    },
    {
      "cell_type": "code",
      "execution_count": null,
      "id": "7f817e46",
      "metadata": {
        "id": "7f817e46"
      },
      "outputs": [],
      "source": [
        "# python_code = \"\"\"\n",
        "# # a list of numbers\n",
        "# my_numbers = [10, 8, 3, 22, 33, 7, 11, 100, 54]\n",
        "# my_numbers.<mask>\n",
        "\n",
        "\n",
        "# \"\"\"\n",
        "python_code = \"\"\"\n",
        "# calculator\n",
        "set_numbers = [2, 10, 23, 235]\n",
        "set_numbers.<mask>\n",
        "\"\"\""
      ]
    },
    {
      "cell_type": "code",
      "execution_count": null,
      "id": "bacd1d1f",
      "metadata": {
        "id": "bacd1d1f",
        "outputId": "2bbdd2db-36ac-4f32-fd34-eeda3e7e3153"
      },
      "outputs": [
        {
          "data": {
            "text/plain": [
              "[{'score': 0.0808456614613533,\n",
              "  'token': 1408,\n",
              "  'token_str': 'update',\n",
              "  'sequence': '\\n# calculator\\nset_numbers = [2, 10, 23, 235]\\nset_numbers.update\\n'},\n",
              " {'score': 0.07690172642469406,\n",
              "  'token': 3783,\n",
              "  'token_str': 'reset',\n",
              "  'sequence': '\\n# calculator\\nset_numbers = [2, 10, 23, 235]\\nset_numbers.reset\\n'},\n",
              " {'score': 0.048172272741794586,\n",
              "  'token': 3059,\n",
              "  'token_str': 'clear',\n",
              "  'sequence': '\\n# calculator\\nset_numbers = [2, 10, 23, 235]\\nset_numbers.clear\\n'},\n",
              " {'score': 0.03192344680428505,\n",
              "  'token': 5648,\n",
              "  'token_str': 'reverse',\n",
              "  'sequence': '\\n# calculator\\nset_numbers = [2, 10, 23, 235]\\nset_numbers.reverse\\n'},\n",
              " {'score': 0.029983755201101303,\n",
              "  'token': 6827,\n",
              "  'token_str': 'initialize',\n",
              "  'sequence': '\\n# calculator\\nset_numbers = [2, 10, 23, 235]\\nset_numbers.initialize\\n'}]"
            ]
          },
          "execution_count": 30,
          "metadata": {},
          "output_type": "execute_result"
        }
      ],
      "source": [
        "fill_mask( python_code )"
      ]
    },
    {
      "cell_type": "markdown",
      "id": "b2a84c1f",
      "metadata": {
        "id": "b2a84c1f"
      },
      "source": [
        "# Библиография\n",
        "\n",
        "https://colab.research.google.com/github/huggingface/notebooks/blob/master/transformers_doc/task_summary.ipynb#scrollTo=QGwpVScF2kZO\n",
        "\n",
        "https://huggingface.co/huggingface/CodeBERTa-small-v1\n",
        "\n",
        "https://huggingface.co/spaces/codeparrot/code-generation-models"
      ]
    }
  ],
  "metadata": {
    "kernelspec": {
      "display_name": "base",
      "language": "python",
      "name": "python3"
    },
    "language_info": {
      "codemirror_mode": {
        "name": "ipython",
        "version": 3
      },
      "file_extension": ".py",
      "mimetype": "text/x-python",
      "name": "python",
      "nbconvert_exporter": "python",
      "pygments_lexer": "ipython3",
      "version": "3.12.7"
    },
    "colab": {
      "provenance": [],
      "include_colab_link": true
    }
  },
  "nbformat": 4,
  "nbformat_minor": 5
}